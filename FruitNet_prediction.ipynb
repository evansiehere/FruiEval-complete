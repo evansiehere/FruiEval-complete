{
  "nbformat": 4,
  "nbformat_minor": 0,
  "metadata": {
    "colab": {
      "provenance": []
    },
    "kernelspec": {
      "name": "python3",
      "display_name": "Python 3"
    },
    "language_info": {
      "name": "python"
    }
  },
  "cells": [
    {
      "cell_type": "markdown",
      "source": [
        "# **Import Required Libraries**"
      ],
      "metadata": {
        "id": "p3YAQJTMMljs"
      }
    },
    {
      "cell_type": "code",
      "execution_count": 19,
      "metadata": {
        "id": "21XsMLikFF4y"
      },
      "outputs": [],
      "source": [
        "from tensorflow.keras.models import load_model\n",
        "from tensorflow.keras.preprocessing import image\n",
        "from tensorflow.keras.applications.inception_resnet_v2 import preprocess_input\n",
        "import numpy as np"
      ]
    },
    {
      "cell_type": "markdown",
      "source": [
        "# **Load Model**"
      ],
      "metadata": {
        "id": "BPGvSnJVMjPy"
      }
    },
    {
      "cell_type": "code",
      "source": [
        "model = load_model('/content/drive/MyDrive/.ipynb_checkpoints/fruitNet.h5')"
      ],
      "metadata": {
        "id": "HLs5d6coK2iG"
      },
      "execution_count": 20,
      "outputs": []
    },
    {
      "cell_type": "markdown",
      "source": [
        "# **Preprocess the images to fit required size and dimensions of model**"
      ],
      "metadata": {
        "id": "S9d4rGE3MeDx"
      }
    },
    {
      "cell_type": "code",
      "source": [
        "def preprocess_image(img_path):\n",
        "    img = image.load_img(img_path, target_size=(256, 256))\n",
        "    img_array = image.img_to_array(img)\n",
        "    img_array = np.expand_dims(img_array, axis=0)\n",
        "    img_array = preprocess_input(img_array)\n",
        "    return img_array\n"
      ],
      "metadata": {
        "id": "mlbNnYchGgct"
      },
      "execution_count": 21,
      "outputs": []
    },
    {
      "cell_type": "markdown",
      "source": [
        "# **Get predictions from model and assign corresponing class**"
      ],
      "metadata": {
        "id": "aDVS2RwDMUNY"
      }
    },
    {
      "cell_type": "code",
      "source": [
        "def predict_quality(img_path):\n",
        "    processed_img = preprocess_image(img_path)\n",
        "    predictions = model.predict(processed_img)\n",
        "    predicted_class = np.argmax(predictions, axis=1)[0]  # Get the index of the highest probability\n",
        "\n",
        "    class_labels = {\n",
        "        0: 'Bad Quality Apple', 1: 'Good Quality Apple',\n",
        "        2: 'Bad Quality Banana', 3: 'Good Quality Banana',\n",
        "        4: 'Bad Quality Guava', 5: 'Good Quality Guava',\n",
        "        6: 'Bad Quality Lime', 7: 'Good Quality Lime',\n",
        "        8: 'Bad Quality Orange', 9: 'Good Quality Orange',\n",
        "        10: 'Bad Quality Pomegranate', 11: 'Good Quality Pomegranate'\n",
        "    }\n",
        "\n",
        "    predicted_label = class_labels[predicted_class]\n",
        "    return predicted_label\n"
      ],
      "metadata": {
        "id": "rHkI1NhjILwH"
      },
      "execution_count": 40,
      "outputs": []
    },
    {
      "cell_type": "markdown",
      "source": [
        "# **Predict Fruit Quality**\n"
      ],
      "metadata": {
        "id": "k87K1StIMBs7"
      }
    },
    {
      "cell_type": "code",
      "source": [
        "img_path = '/content/Screenshot 2024-06-17 181622.png'\n",
        "predicted_quality = predict_quality(img_path)\n",
        "print(f'Predicted quality : {predicted_quality}')"
      ],
      "metadata": {
        "colab": {
          "base_uri": "https://localhost:8080/"
        },
        "id": "eG9697YsIOhg",
        "outputId": "7414bf08-56fa-47c2-92e7-e792adf25551"
      },
      "execution_count": 43,
      "outputs": [
        {
          "output_type": "stream",
          "name": "stdout",
          "text": [
            "1/1 [==============================] - 0s 396ms/step\n",
            "Predicted quality : Good Quality Apple\n"
          ]
        }
      ]
    }
  ]
}